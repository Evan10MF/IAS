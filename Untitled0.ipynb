{
  "nbformat": 4,
  "nbformat_minor": 0,
  "metadata": {
    "colab": {
      "provenance": [],
      "authorship_tag": "ABX9TyOFvgJvZH4NxPHowgEV3njk",
      "include_colab_link": true
    },
    "kernelspec": {
      "name": "python3",
      "display_name": "Python 3"
    },
    "language_info": {
      "name": "python"
    }
  },
  "cells": [
    {
      "cell_type": "markdown",
      "metadata": {
        "id": "view-in-github",
        "colab_type": "text"
      },
      "source": [
        "<a href=\"https://colab.research.google.com/github/Evan10MF/IAS/blob/main/Untitled0.ipynb\" target=\"_parent\"><img src=\"https://colab.research.google.com/assets/colab-badge.svg\" alt=\"Open In Colab\"/></a>"
      ]
    },
    {
      "cell_type": "code",
      "source": [
        "EjercicioPython_1 IVAN MARTINEZ FABIAN 1920753"
      ],
      "metadata": {
        "id": "Qx4Iw_RBPBub"
      },
      "execution_count": null,
      "outputs": []
    },
    {
      "cell_type": "code",
      "source": [
        "# Solicita al usuario que ingrese un número\n",
        "numero = int(input(\"Por favor, ingresa un número: \"))\n",
        "\n",
        "# Verifica si el número es par o impar\n",
        "if numero % 2 == 0:\n",
        "    print(f\"{numero} es un número par.\")\n",
        "else:\n",
        "    print(f\"{numero} es un número impar.\")\n"
      ],
      "metadata": {
        "id": "JV4G1PvNQGVc"
      },
      "execution_count": null,
      "outputs": []
    },
    {
      "cell_type": "code",
      "source": [
        "# Solicita al usuario que ingrese una lista de números separados por espacios\n",
        "entrada = input(\"Ingresa una lista de números separados por espacios: \")\n",
        "\n",
        "# Divide la entrada en una lista de cadenas de texto\n",
        "numeros_str = entrada.split()\n",
        "\n",
        "# Convierte las cadenas de texto en números enteros\n",
        "numeros = [int(numero) for numero in numeros_str]\n",
        "\n",
        "# Invierte la lista de números\n",
        "numeros_inversos = numeros[::-1]\n",
        "\n",
        "# Muestra la lista en orden inverso\n",
        "print(\"Lista en orden inverso:\", numeros_inversos)\n"
      ],
      "metadata": {
        "id": "xi-iAELbQZhj"
      },
      "execution_count": null,
      "outputs": []
    },
    {
      "cell_type": "code",
      "source": [
        "import random\n",
        "\n",
        "# Genera un número aleatorio entre 1 y 100\n",
        "numero_objetivo = random.randint(1, 100)\n",
        "\n",
        "print(\"¡Bienvenido al juego de adivinar el número!\")\n",
        "intentos = 0\n",
        "\n",
        "while True:\n",
        "    # Solicita al usuario que adivine el número\n",
        "    intento = int(input(\"Adivina el número entre 1 y 100: \"))\n",
        "    intentos += 1\n",
        "\n",
        "    # Compara el intento del usuario con el número objetivo\n",
        "    if intento < numero_objetivo:\n",
        "        print(\"El número es mayor. Intenta de nuevo.\")\n",
        "    elif intento > numero_objetivo:\n",
        "        print(\"El número es menor. Intenta de nuevo.\")\n",
        "    else:\n",
        "        print(f\"¡Felicidades! Adivinaste el número {numero_objetivo} en {intentos} intentos.\")\n",
        "        break\n"
      ],
      "metadata": {
        "id": "U3f--vGdQgo6"
      },
      "execution_count": null,
      "outputs": []
    },
    {
      "cell_type": "code",
      "source": [
        "def es_primo(numero):\n",
        "    if numero <= 1:\n",
        "        return False\n",
        "    if numero <= 3:\n",
        "        return True\n",
        "    if numero % 2 == 0 or numero % 3 == 0:\n",
        "        return False\n",
        "    i = 5\n",
        "    while i * i <= numero:\n",
        "        if numero % i == 0 or numero % (i + 2) == 0:\n",
        "            return False\n",
        "        i += 6\n",
        "    return True\n",
        "\n",
        "# Solicita al usuario el rango de números\n",
        "inicio = int(input(\"Ingrese el número inicial del rango: \"))\n",
        "fin = int(input(\"Ingrese el número final del rango: \"))\n",
        "\n",
        "print(f\"Números primos en el rango de {inicio} a {fin}:\")\n",
        "for numero in range(inicio, fin + 1):\n",
        "    if es_primo(numero):\n",
        "        print(numero)\n"
      ],
      "metadata": {
        "id": "98APM70dQkm1"
      },
      "execution_count": null,
      "outputs": []
    }
  ]
}