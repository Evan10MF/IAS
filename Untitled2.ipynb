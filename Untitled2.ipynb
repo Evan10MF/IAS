{
  "nbformat": 4,
  "nbformat_minor": 0,
  "metadata": {
    "colab": {
      "provenance": [],
      "authorship_tag": "ABX9TyPp+C5ZFjjZe2YW/CjoG1Z/",
      "include_colab_link": true
    },
    "kernelspec": {
      "name": "python3",
      "display_name": "Python 3"
    },
    "language_info": {
      "name": "python"
    }
  },
  "cells": [
    {
      "cell_type": "markdown",
      "metadata": {
        "id": "view-in-github",
        "colab_type": "text"
      },
      "source": [
        "<a href=\"https://colab.research.google.com/github/Evan10MF/IAS/blob/main/Untitled2.ipynb\" target=\"_parent\"><img src=\"https://colab.research.google.com/assets/colab-badge.svg\" alt=\"Open In Colab\"/></a>"
      ]
    },
    {
      "cell_type": "code",
      "execution_count": null,
      "metadata": {
        "id": "RGgUCipBVYvg"
      },
      "outputs": [],
      "source": [
        "EjercicioPython_1_ IVAN MARTINEZ FABIAN - 1920753 -"
      ]
    },
    {
      "cell_type": "code",
      "source": [
        "# Solicitar al usuario un número\n",
        "numero = int(input(\"Por favor, introduce un número: \"))\n",
        "\n",
        "# Verificar si el número es par o impar\n",
        "if numero % 2 == 0:\n",
        "    print(f\"{numero} es un número par.\")\n",
        "else:\n",
        "    print(f\"{numero} es un número impar.\")\n"
      ],
      "metadata": {
        "colab": {
          "base_uri": "https://localhost:8080/"
        },
        "id": "_RUW38RpVlCd",
        "outputId": "16bd197f-f4bb-41e6-9bb8-78997ba05c4e"
      },
      "execution_count": 6,
      "outputs": [
        {
          "output_type": "stream",
          "name": "stdout",
          "text": [
            "Por favor, introduce un número: 3\n",
            "3 es un número impar.\n"
          ]
        }
      ]
    },
    {
      "cell_type": "code",
      "source": [
        "# Solicitar al usuario una lista de números separados por comas\n",
        "entrada_usuario = input(\"Ingresa una lista de números separados por comas: \")\n",
        "\n",
        "# Dividir la entrada en una lista de números\n",
        "numeros = entrada_usuario.split(\",\")\n",
        "\n",
        "# Convertir los números a enteros\n",
        "numeros = [int(numero) for numero in numeros]\n",
        "\n",
        "# Mostrar la lista de números ingresada por el usuario\n",
        "print(\"Lista de números ingresada por el usuario:\", numeros)\n"
      ],
      "metadata": {
        "colab": {
          "base_uri": "https://localhost:8080/"
        },
        "id": "cKIoCQ3BWyq9",
        "outputId": "f8d0db83-a904-4689-d063-903e21b77a00"
      },
      "execution_count": 8,
      "outputs": [
        {
          "output_type": "stream",
          "name": "stdout",
          "text": [
            "Ingresa una lista de números separados por comas: 1,2,3\n",
            "Lista de números ingresada por el usuario: [1, 2, 3]\n"
          ]
        }
      ]
    },
    {
      "cell_type": "code",
      "source": [
        "# Invertir la lista\n",
        "numeros_invertidos = numeros[::-1]\n",
        "\n",
        "# Mostrar la lista en orden inverso\n",
        "print(\"Lista en orden inverso:\", numeros_invertidos)\n"
      ],
      "metadata": {
        "colab": {
          "base_uri": "https://localhost:8080/"
        },
        "id": "TM_6Wg6aXTyI",
        "outputId": "79826b38-62da-47fb-f63a-4808cd3dc021"
      },
      "execution_count": 9,
      "outputs": [
        {
          "output_type": "stream",
          "name": "stdout",
          "text": [
            "Lista en orden inverso: [3, 2, 1]\n"
          ]
        }
      ]
    },
    {
      "cell_type": "code",
      "source": [
        "import random\n",
        "\n",
        "# Generar un número aleatorio entre 1 y 100\n",
        "numero_secreto = random.randint(1, 100)\n",
        "\n",
        "intentos = 0\n",
        "\n",
        "while True:\n",
        "    # Solicitar al usuario que adivine el número\n",
        "    intento = int(input(\"Adivina el número (entre 1 y 100): \"))\n",
        "    intentos += 1\n",
        "\n",
        "    # Comprobar si el intento del usuario es correcto\n",
        "    if intento == numero_secreto:\n",
        "        print(f\"¡Felicidades! Adivinaste el número {numero_secreto} en {intentos} intentos.\")\n",
        "        break\n",
        "    elif intento < numero_secreto:\n",
        "        print(\"El número secreto es mayor.\")\n",
        "    else:\n",
        "        print(\"El número secreto es menor.\")\n"
      ],
      "metadata": {
        "colab": {
          "base_uri": "https://localhost:8080/"
        },
        "id": "K-88qRCGYSJN",
        "outputId": "6139c784-0cb2-49a4-9038-c98e8a9db422"
      },
      "execution_count": 10,
      "outputs": [
        {
          "output_type": "stream",
          "name": "stdout",
          "text": [
            "Adivina el número (entre 1 y 100): 57\n",
            "El número secreto es menor.\n",
            "Adivina el número (entre 1 y 100): 47\n",
            "El número secreto es mayor.\n",
            "Adivina el número (entre 1 y 100): 43\n",
            "El número secreto es mayor.\n",
            "Adivina el número (entre 1 y 100): 50\n",
            "¡Felicidades! Adivinaste el número 50 en 4 intentos.\n"
          ]
        }
      ]
    },
    {
      "cell_type": "code",
      "source": [
        "def es_primo(numero):\n",
        "    if numero <= 1:\n",
        "        return False\n",
        "    if numero <= 3:\n",
        "        return True\n",
        "    if numero % 2 == 0 or numero % 3 == 0:\n",
        "        return False\n",
        "\n",
        "    i = 5\n",
        "    while i * i <= numero:\n",
        "        if numero % i == 0 or numero % (i + 2) == 0:\n",
        "            return False\n",
        "        i += 6\n",
        "\n",
        "    return True\n",
        "\n",
        "# Solicitar al usuario un rango de números\n",
        "inicio = int(input(\"Ingrese el número de inicio del rango: \"))\n",
        "fin = int(input(\"Ingrese el número de fin del rango: \"))\n",
        "\n",
        "print(f\"Números primos en el rango de {inicio} a {fin}:\")\n",
        "for num in range(inicio, fin + 1):\n",
        "    if es_primo(num):\n",
        "        print(num)\n"
      ],
      "metadata": {
        "colab": {
          "base_uri": "https://localhost:8080/"
        },
        "id": "0hCHPbYaYdma",
        "outputId": "ec4be8df-8dad-4f39-ce2e-b1826a6d3c86"
      },
      "execution_count": 11,
      "outputs": [
        {
          "output_type": "stream",
          "name": "stdout",
          "text": [
            "Ingrese el número de inicio del rango: 1\n",
            "Ingrese el número de fin del rango: 10\n",
            "Números primos en el rango de 1 a 10:\n",
            "2\n",
            "3\n",
            "5\n",
            "7\n"
          ]
        }
      ]
    }
  ]
}